{
  "cells": [
    {
      "cell_type": "markdown",
      "metadata": {
        "id": "view-in-github",
        "colab_type": "text"
      },
      "source": [
        "<a href=\"https://colab.research.google.com/github/adjie-code/visi-komputer/blob/main/UTS_Kecerdasan_Komputational_Firgoadjie_23420017.ipynb\" target=\"_parent\"><img src=\"https://colab.research.google.com/assets/colab-badge.svg\" alt=\"Open In Colab\"/></a>"
      ]
    },
    {
      "cell_type": "code",
      "source": [
        "import matplotlib as plt\n",
        "from sklearn.datasets import make_blobs\n",
        "from sklearn.cluster import KMeans\n",
        "from sklearn.metrics import silhouette_score\n",
        "from sklearn.preprocessing import StandardScaler"
      ],
      "metadata": {
        "id": "gTJviDl-ubCp"
      },
      "execution_count": 1,
      "outputs": []
    },
    {
      "cell_type": "code",
      "source": [
        "features, true_label = make_blobs(\n",
        "    n_samples=250,\n",
        "    centers=5,\n",
        "    cluster_std=2.75,\n",
        "    random_state=42\n",
        ")"
      ],
      "metadata": {
        "id": "WYKds20nuodv"
      },
      "execution_count": 2,
      "outputs": []
    },
    {
      "cell_type": "code",
      "source": [
        "features[:10]"
      ],
      "metadata": {
        "id": "g3CzkUrNu0ol",
        "outputId": "0a191aa7-5ba8-49ca-ccc8-c68c4edb165a",
        "colab": {
          "base_uri": "https://localhost:8080/"
        }
      },
      "execution_count": 3,
      "outputs": [
        {
          "output_type": "execute_result",
          "data": {
            "text/plain": [
              "array([[  2.67781361,   9.49437511],\n",
              "       [  6.25373584,   7.99692265],\n",
              "       [ -8.77092478,   8.69301822],\n",
              "       [ -0.51431613, -12.01508887],\n",
              "       [  0.32605106,  11.57530646],\n",
              "       [  3.07848022,   4.071541  ],\n",
              "       [ -8.17743982,  -3.88549545],\n",
              "       [ -9.15331233,  10.72751777],\n",
              "       [ -9.71349666,  11.27451802],\n",
              "       [-11.0578946 ,  -8.21175329]])"
            ]
          },
          "metadata": {},
          "execution_count": 3
        }
      ]
    },
    {
      "cell_type": "code",
      "source": [
        "true_label[:200]"
      ],
      "metadata": {
        "id": "u3S6AamDu4zv",
        "outputId": "c982b61f-6c9f-456c-9bec-a083f21e2964",
        "colab": {
          "base_uri": "https://localhost:8080/"
        }
      },
      "execution_count": 4,
      "outputs": [
        {
          "output_type": "execute_result",
          "data": {
            "text/plain": [
              "array([0, 1, 3, 2, 0, 4, 2, 3, 0, 2, 2, 2, 2, 0, 1, 2, 0, 1, 2, 4, 4, 0,\n",
              "       2, 0, 4, 1, 3, 1, 3, 0, 2, 2, 4, 4, 3, 3, 0, 1, 4, 3, 4, 3, 1, 4,\n",
              "       3, 4, 4, 0, 1, 1, 3, 0, 2, 0, 1, 4, 2, 2, 2, 1, 3, 3, 4, 3, 4, 1,\n",
              "       0, 4, 2, 1, 3, 0, 0, 1, 2, 4, 1, 0, 1, 2, 1, 1, 4, 4, 3, 2, 1, 2,\n",
              "       3, 3, 1, 4, 2, 4, 3, 1, 3, 2, 4, 0, 3, 0, 0, 2, 3, 3, 4, 4, 0, 1,\n",
              "       4, 4, 2, 2, 1, 3, 4, 1, 3, 4, 2, 2, 3, 3, 0, 3, 0, 3, 0, 1, 2, 0,\n",
              "       3, 2, 0, 3, 3, 4, 0, 1, 2, 4, 3, 2, 1, 3, 3, 0, 3, 0, 2, 0, 1, 1,\n",
              "       3, 1, 2, 4, 4, 4, 0, 1, 3, 4, 2, 2, 1, 4, 1, 0, 4, 4, 3, 4, 4, 2,\n",
              "       0, 0, 1, 2, 1, 1, 1, 3, 3, 0, 2, 3, 2, 3, 0, 0, 3, 4, 3, 0, 1, 1,\n",
              "       2, 2])"
            ]
          },
          "metadata": {},
          "execution_count": 4
        }
      ]
    },
    {
      "cell_type": "code",
      "source": [
        "standard_skala = StandardScaler()\n",
        "skala_fitur = standard_skala.fit_transform(features)"
      ],
      "metadata": {
        "id": "pOvGnSaZu9RQ"
      },
      "execution_count": 5,
      "outputs": []
    },
    {
      "cell_type": "code",
      "source": [
        "skala_fitur[:10]"
      ],
      "metadata": {
        "id": "0VfSVKCivBSh",
        "outputId": "623a6e6a-7e04-4f38-8d19-6ed40b221ee7",
        "colab": {
          "base_uri": "https://localhost:8080/"
        }
      },
      "execution_count": 6,
      "outputs": [
        {
          "output_type": "execute_result",
          "data": {
            "text/plain": [
              "array([[ 0.88779297,  1.03453406],\n",
              "       [ 1.51895184,  0.79073257],\n",
              "       [-1.13293685,  0.90406447],\n",
              "       [ 0.32437441, -2.46743981],\n",
              "       [ 0.47270124,  1.37333223],\n",
              "       [ 0.95851159,  0.15163789],\n",
              "       [-1.02818533, -1.14385389],\n",
              "       [-1.20042917,  1.23530305],\n",
              "       [-1.29930305,  1.32436061],\n",
              "       [-1.53659252, -1.84821556]])"
            ]
          },
          "metadata": {},
          "execution_count": 6
        }
      ]
    },
    {
      "cell_type": "code",
      "source": [
        "metode_kmeans = KMeans(\n",
        "    init=\"random\", \n",
        "    n_clusters=5, \n",
        "    n_init=10, \n",
        "    max_iter=100, \n",
        "    random_state=41\n",
        "    )"
      ],
      "metadata": {
        "id": "IphuIY-IvJeM"
      },
      "execution_count": 7,
      "outputs": []
    },
    {
      "cell_type": "code",
      "source": [
        "metode_kmeans.fit(skala_fitur)"
      ],
      "metadata": {
        "id": "JRD_MNZQvNzB",
        "outputId": "b75e3900-1125-4569-c196-a1f35e5b680e",
        "colab": {
          "base_uri": "https://localhost:8080/",
          "height": 75
        }
      },
      "execution_count": 8,
      "outputs": [
        {
          "output_type": "execute_result",
          "data": {
            "text/plain": [
              "KMeans(init='random', max_iter=100, n_clusters=5, n_init=10, random_state=41)"
            ],
            "text/html": [
              "<style>#sk-container-id-1 {color: black;background-color: white;}#sk-container-id-1 pre{padding: 0;}#sk-container-id-1 div.sk-toggleable {background-color: white;}#sk-container-id-1 label.sk-toggleable__label {cursor: pointer;display: block;width: 100%;margin-bottom: 0;padding: 0.3em;box-sizing: border-box;text-align: center;}#sk-container-id-1 label.sk-toggleable__label-arrow:before {content: \"▸\";float: left;margin-right: 0.25em;color: #696969;}#sk-container-id-1 label.sk-toggleable__label-arrow:hover:before {color: black;}#sk-container-id-1 div.sk-estimator:hover label.sk-toggleable__label-arrow:before {color: black;}#sk-container-id-1 div.sk-toggleable__content {max-height: 0;max-width: 0;overflow: hidden;text-align: left;background-color: #f0f8ff;}#sk-container-id-1 div.sk-toggleable__content pre {margin: 0.2em;color: black;border-radius: 0.25em;background-color: #f0f8ff;}#sk-container-id-1 input.sk-toggleable__control:checked~div.sk-toggleable__content {max-height: 200px;max-width: 100%;overflow: auto;}#sk-container-id-1 input.sk-toggleable__control:checked~label.sk-toggleable__label-arrow:before {content: \"▾\";}#sk-container-id-1 div.sk-estimator input.sk-toggleable__control:checked~label.sk-toggleable__label {background-color: #d4ebff;}#sk-container-id-1 div.sk-label input.sk-toggleable__control:checked~label.sk-toggleable__label {background-color: #d4ebff;}#sk-container-id-1 input.sk-hidden--visually {border: 0;clip: rect(1px 1px 1px 1px);clip: rect(1px, 1px, 1px, 1px);height: 1px;margin: -1px;overflow: hidden;padding: 0;position: absolute;width: 1px;}#sk-container-id-1 div.sk-estimator {font-family: monospace;background-color: #f0f8ff;border: 1px dotted black;border-radius: 0.25em;box-sizing: border-box;margin-bottom: 0.5em;}#sk-container-id-1 div.sk-estimator:hover {background-color: #d4ebff;}#sk-container-id-1 div.sk-parallel-item::after {content: \"\";width: 100%;border-bottom: 1px solid gray;flex-grow: 1;}#sk-container-id-1 div.sk-label:hover label.sk-toggleable__label {background-color: #d4ebff;}#sk-container-id-1 div.sk-serial::before {content: \"\";position: absolute;border-left: 1px solid gray;box-sizing: border-box;top: 0;bottom: 0;left: 50%;z-index: 0;}#sk-container-id-1 div.sk-serial {display: flex;flex-direction: column;align-items: center;background-color: white;padding-right: 0.2em;padding-left: 0.2em;position: relative;}#sk-container-id-1 div.sk-item {position: relative;z-index: 1;}#sk-container-id-1 div.sk-parallel {display: flex;align-items: stretch;justify-content: center;background-color: white;position: relative;}#sk-container-id-1 div.sk-item::before, #sk-container-id-1 div.sk-parallel-item::before {content: \"\";position: absolute;border-left: 1px solid gray;box-sizing: border-box;top: 0;bottom: 0;left: 50%;z-index: -1;}#sk-container-id-1 div.sk-parallel-item {display: flex;flex-direction: column;z-index: 1;position: relative;background-color: white;}#sk-container-id-1 div.sk-parallel-item:first-child::after {align-self: flex-end;width: 50%;}#sk-container-id-1 div.sk-parallel-item:last-child::after {align-self: flex-start;width: 50%;}#sk-container-id-1 div.sk-parallel-item:only-child::after {width: 0;}#sk-container-id-1 div.sk-dashed-wrapped {border: 1px dashed gray;margin: 0 0.4em 0.5em 0.4em;box-sizing: border-box;padding-bottom: 0.4em;background-color: white;}#sk-container-id-1 div.sk-label label {font-family: monospace;font-weight: bold;display: inline-block;line-height: 1.2em;}#sk-container-id-1 div.sk-label-container {text-align: center;}#sk-container-id-1 div.sk-container {/* jupyter's `normalize.less` sets `[hidden] { display: none; }` but bootstrap.min.css set `[hidden] { display: none !important; }` so we also need the `!important` here to be able to override the default hidden behavior on the sphinx rendered scikit-learn.org. See: https://github.com/scikit-learn/scikit-learn/issues/21755 */display: inline-block !important;position: relative;}#sk-container-id-1 div.sk-text-repr-fallback {display: none;}</style><div id=\"sk-container-id-1\" class=\"sk-top-container\"><div class=\"sk-text-repr-fallback\"><pre>KMeans(init=&#x27;random&#x27;, max_iter=100, n_clusters=5, n_init=10, random_state=41)</pre><b>In a Jupyter environment, please rerun this cell to show the HTML representation or trust the notebook. <br />On GitHub, the HTML representation is unable to render, please try loading this page with nbviewer.org.</b></div><div class=\"sk-container\" hidden><div class=\"sk-item\"><div class=\"sk-estimator sk-toggleable\"><input class=\"sk-toggleable__control sk-hidden--visually\" id=\"sk-estimator-id-1\" type=\"checkbox\" checked><label for=\"sk-estimator-id-1\" class=\"sk-toggleable__label sk-toggleable__label-arrow\">KMeans</label><div class=\"sk-toggleable__content\"><pre>KMeans(init=&#x27;random&#x27;, max_iter=100, n_clusters=5, n_init=10, random_state=41)</pre></div></div></div></div></div>"
            ]
          },
          "metadata": {},
          "execution_count": 8
        }
      ]
    },
    {
      "cell_type": "code",
      "source": [
        "metode_kmeans.inertia_"
      ],
      "metadata": {
        "id": "1F3vwWOjvSLb",
        "outputId": "5226b61d-e91f-4a7a-81d4-c7d02747ffef",
        "colab": {
          "base_uri": "https://localhost:8080/"
        }
      },
      "execution_count": 9,
      "outputs": [
        {
          "output_type": "execute_result",
          "data": {
            "text/plain": [
              "77.57902953571777"
            ]
          },
          "metadata": {},
          "execution_count": 9
        }
      ]
    },
    {
      "cell_type": "code",
      "source": [
        "metode_kmeans.cluster_centers_"
      ],
      "metadata": {
        "id": "d8g-rVSYvbkO",
        "outputId": "52a6ca38-80ae-4782-b9c5-41f349415dad",
        "colab": {
          "base_uri": "https://localhost:8080/"
        }
      },
      "execution_count": 10,
      "outputs": [
        {
          "output_type": "execute_result",
          "data": {
            "text/plain": [
              "array([[ 0.87544312, -0.38634656],\n",
              "       [-1.13126326,  0.73698733],\n",
              "       [-0.75455428, -1.69164329],\n",
              "       [ 0.01475138,  0.77523007],\n",
              "       [ 1.37243657,  0.35432664]])"
            ]
          },
          "metadata": {},
          "execution_count": 10
        }
      ]
    },
    {
      "cell_type": "code",
      "source": [
        "metode_kmeans.n_iter_"
      ],
      "metadata": {
        "id": "TJgFdqFxvd3Y",
        "outputId": "52337b64-fddc-4509-96ca-39178f8673ac",
        "colab": {
          "base_uri": "https://localhost:8080/"
        }
      },
      "execution_count": 11,
      "outputs": [
        {
          "output_type": "execute_result",
          "data": {
            "text/plain": [
              "11"
            ]
          },
          "metadata": {},
          "execution_count": 11
        }
      ]
    },
    {
      "cell_type": "code",
      "source": [
        "metode_kmeans.labels_"
      ],
      "metadata": {
        "id": "RSWrA6H-vhlv",
        "outputId": "0eb82469-bfc0-4be0-afa9-75e9315fcd11",
        "colab": {
          "base_uri": "https://localhost:8080/"
        }
      },
      "execution_count": 12,
      "outputs": [
        {
          "output_type": "execute_result",
          "data": {
            "text/plain": [
              "array([4, 4, 1, 2, 3, 4, 2, 1, 1, 2, 2, 2, 2, 1, 0, 2, 3, 4, 2, 0, 4, 3,\n",
              "       2, 3, 3, 0, 1, 0, 1, 3, 2, 2, 3, 3, 1, 3, 1, 0, 4, 1, 3, 1, 0, 3,\n",
              "       1, 4, 0, 3, 0, 4, 1, 3, 2, 3, 0, 4, 2, 2, 2, 0, 1, 1, 0, 1, 3, 4,\n",
              "       3, 4, 2, 0, 1, 3, 3, 4, 2, 0, 0, 3, 4, 2, 4, 0, 4, 4, 3, 2, 0, 2,\n",
              "       1, 1, 4, 4, 2, 3, 1, 0, 1, 2, 4, 3, 1, 3, 3, 2, 1, 1, 0, 4, 3, 4,\n",
              "       3, 0, 2, 2, 0, 1, 0, 4, 1, 0, 2, 2, 1, 1, 3, 3, 3, 1, 3, 4, 2, 3,\n",
              "       1, 2, 3, 1, 1, 3, 3, 4, 2, 0, 1, 0, 4, 1, 1, 3, 1, 3, 2, 3, 4, 0,\n",
              "       1, 0, 2, 4, 3, 4, 3, 0, 1, 4, 2, 2, 0, 0, 4, 3, 0, 3, 1, 0, 0, 2,\n",
              "       3, 3, 0, 1, 0, 0, 4, 1, 1, 3, 2, 1, 2, 1, 3, 1, 1, 0, 1, 3, 0, 4,\n",
              "       2, 2, 3, 3, 4, 2, 4, 3, 1, 2, 3, 3, 1, 0, 4, 3, 0, 2, 3, 1, 4, 3,\n",
              "       2, 3, 0, 1, 1, 0, 1, 4, 2, 2, 2, 4, 1, 4, 0, 0, 0, 3, 3, 0, 3, 0,\n",
              "       3, 3, 0, 2, 2, 0, 1, 0], dtype=int32)"
            ]
          },
          "metadata": {},
          "execution_count": 12
        }
      ]
    },
    {
      "cell_type": "code",
      "source": [
        "import numpy as np\n",
        "import matplotlib.pyplot as plt\n",
        "import pandas as pd"
      ],
      "metadata": {
        "id": "paNcekdfvlNc"
      },
      "execution_count": 13,
      "outputs": []
    },
    {
      "cell_type": "code",
      "source": [
        "color = np.array([\"Red\",\"Green\",\"Blue\",\"yellow\",\"black\"])\n",
        "plt.subplot(1,2,2)\n",
        "plt.scatter(skala_fitur[:,0], skala_fitur[:,1], s=50, alpha=1, cmap='viridis', c=color[metode_kmeans.labels_])"
      ],
      "metadata": {
        "id": "87i1_oWAvsDa",
        "outputId": "b43a644a-5193-4c48-f4df-6a1e61ad5b7e",
        "colab": {
          "base_uri": "https://localhost:8080/",
          "height": 490
        }
      },
      "execution_count": 14,
      "outputs": [
        {
          "output_type": "stream",
          "name": "stderr",
          "text": [
            "<ipython-input-14-4696bde5d28b>:3: UserWarning: No data for colormapping provided via 'c'. Parameters 'cmap' will be ignored\n",
            "  plt.scatter(skala_fitur[:,0], skala_fitur[:,1], s=50, alpha=1, cmap='viridis', c=color[metode_kmeans.labels_])\n"
          ]
        },
        {
          "output_type": "execute_result",
          "data": {
            "text/plain": [
              "<matplotlib.collections.PathCollection at 0x7f811a57baf0>"
            ]
          },
          "metadata": {},
          "execution_count": 14
        },
        {
          "output_type": "display_data",
          "data": {
            "text/plain": [
              "<Figure size 640x480 with 1 Axes>"
            ],
            "image/png": "[encoded data removed]"
          },
          "metadata": {}
        }
      ]
    }
  ],
  "metadata": {
    "colab": {
      "toc_visible": true,
      "provenance": [],
      "include_colab_link": true
    },
    "kernelspec": {
      "display_name": "Python 3",
      "name": "python3"
    }
  },
  "nbformat": 4,
  "nbformat_minor": 0
}